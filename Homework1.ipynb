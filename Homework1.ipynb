{
  "nbformat": 4,
  "nbformat_minor": 0,
  "metadata": {
    "colab": {
      "provenance": [],
      "authorship_tag": "ABX9TyPgYcoSjdPOiqPmrd3CLJ+e",
      "include_colab_link": true
    },
    "kernelspec": {
      "name": "python3",
      "display_name": "Python 3"
    },
    "language_info": {
      "name": "python"
    }
  },
  "cells": [
    {
      "cell_type": "markdown",
      "metadata": {
        "id": "view-in-github",
        "colab_type": "text"
      },
      "source": [
        "<a href=\"https://colab.research.google.com/github/arahe1/se_git/blob/main/Homework1.ipynb\" target=\"_parent\"><img src=\"https://colab.research.google.com/assets/colab-badge.svg\" alt=\"Open In Colab\"/></a>"
      ]
    },
    {
      "cell_type": "code",
      "execution_count": 45,
      "metadata": {
        "colab": {
          "base_uri": "https://localhost:8080/"
        },
        "id": "1LJXZWIPS40T",
        "outputId": "a4c98c0b-c498-4035-8f35-b88fbe5edf71"
      },
      "outputs": [
        {
          "output_type": "stream",
          "name": "stdout",
          "text": [
            "Enter number of slices N: 2000000\n",
            "Program value: 1.5707963262069677\n",
            "Actual value: 1.5707963267948966\n",
            "Percent Error 3.7428710948268324e-08\n",
            "Time passed: 0.9505210709999119\n"
          ]
        }
      ],
      "source": [
        "# Problem 1 #\n",
        "import math\n",
        "import time\n",
        "N = int(input(\"Enter number of slices N: \"))\n",
        "tic = time.perf_counter() # below N so it doesn't count the time to enter a number #\n",
        "h = 2/N\n",
        "x = 0.0\n",
        "y = 0.0\n",
        "integral = 0.0\n",
        "for k in range(1,N+1): # Summation from k=1 to k=N #\n",
        "  x = -1+(h*k)\n",
        "  y = math.sqrt(1-(x*x))\n",
        "  integral += h*y\n",
        "toc = time.perf_counter()\n",
        "percent_error = (((math.pi/2)-integral)/(math.pi/2))*100\n",
        "time_in_seconds = toc - tic\n",
        "print(\"Program value:\", integral)\n",
        "print(\"Actual value:\", math.pi/2)\n",
        "print(\"Percent Error\", percent_error)\n",
        "print(\"Time passed:\", time_in_seconds)\n",
        "\n",
        "# a) 0.1% error at N=100 #\n",
        "# b) N=2000000 runs just under 1 second with a 3.74e-08% error#"
      ]
    },
    {
      "cell_type": "code",
      "source": [
        "# Problem 2 #\n",
        "\n",
        "import numpy as np\n",
        "\n",
        "sign = int(input(\"Enter 0 for positive or 1 for negative:\"))\n",
        "integer = int(input(\"Whole number part to be converted:\"))\n",
        "decimal = float(input(\"Decimal part to be converted:\"))\n",
        "\n",
        "print(\"single precision binary sign part:\", sign)\n",
        "\n",
        "# Converts integer part to binary #\n",
        "ah = np.array([integer], dtype=np.uint8) # Limited to working up to 255 only #\n",
        "bh = np.unpackbits(ah)\n",
        "ch = np.where(bh==1)\n",
        "\n",
        "# creates an array similar to the summation in formula  provided#\n",
        "another = []\n",
        "counter = 1\n",
        "while (counter <=23):\n",
        "  another.append(1/(2**counter))\n",
        "  counter+=1\n",
        "\n",
        "# Works for numbers between -1 and 1 #\n",
        "if integer == 0:\n",
        "  gh = np.zeros((8), dtype=int)\n",
        "\n",
        "# Exponent Part #\n",
        "  a = (decimal)*2\n",
        "  count = 0\n",
        "  b = []\n",
        "  while (count<=22): # creates binary representation of the decimal #\n",
        "    if a<1:\n",
        "      a *= 2\n",
        "      b.append(0)\n",
        "    elif a>1:\n",
        "      a -= 1\n",
        "      a *= 2\n",
        "      b.append(1)\n",
        "    elif a==1:\n",
        "      a-= 1\n",
        "      b.append(1)\n",
        "\n",
        "    count += 1\n",
        "\n",
        "  c = np.asarray(b)\n",
        "  d = np.where(c == 1)\n",
        "  f = int(d[0][0]) # Finds the first 1 #\n",
        "  g = 127-(f+1) # determines e #\n",
        "\n",
        "# Fraction Part #\n",
        "  del b[:(f+1)]  # if b was a number in scientific notation, this gives only the decimal portion #\n",
        "  m = np.zeros((f+1), dtype=int)\n",
        "  n = np.concatenate((b,m),axis=None) # adds zeros to get to 23 bits to find fraction part #\n",
        "  print(\"single precision binary exponent part:\", np.binary_repr(g, width=8))\n",
        "  print(\"single precision binary fraction part:\", n) # Disappointingly not binary but pretty close #\n",
        "  print(\"Original Number Back:\", ((-1)**sign)*(1/(2**(f+1)))*(1+np.sum(n*another)))\n",
        "\n",
        "\n",
        "# Works for numbers > 1 #\n",
        "else :\n",
        "\n",
        "# Exponent Part #\n",
        "  dh = int(ch[0][0]) # Finds first 1 #\n",
        "  fh = (7-dh) # determines how many times the decimal should move left #\n",
        "  hh = fh + 127 # determines e #\n",
        "  print(\"single precision binary exponent part:\", np.binary_repr(hh, width=8))\n",
        "\n",
        "# Fraction Part #\n",
        "  a = (decimal)*2\n",
        "  count = 0\n",
        "  b = []\n",
        "  while (count<=22):\n",
        "    if a<1:\n",
        "      a *= 2\n",
        "      b.append(0)\n",
        "    elif a>1:\n",
        "      a -= 1\n",
        "      a *= 2\n",
        "      b.append(1)\n",
        "    elif a==1:\n",
        "      a-= 1\n",
        "      b.append(1)\n",
        "\n",
        "    count += 1\n",
        "\n",
        "  c = np.asarray(b)\n",
        "  q = np.concatenate((bh,c), axis=None) # creates an array that adds the whole number portion to the decimal portion #\n",
        "  d = np.where(q == 1)\n",
        "  f = int(d[0][0]) # Finds the first 1 #\n",
        "  r = list(q)\n",
        "  del r[:(f+1)] # deletes array elements up to and including the first 1 #\n",
        "  t = np.asarray(r)\n",
        "  s = t.size\n",
        "  if s>23:\n",
        "    v = t[:(23-s)] # ensures the size is correct for multiplication (too big) #\n",
        "    print(\"single precision binary fraction part:\", v) # Disappointingly not binary but pretty close #\n",
        "    print(\"Original Number Back:\", ((-1)**sign)*(2**fh)*(1+np.sum(v*another)))\n",
        "  else:\n",
        "    w = np.pad(t, (0,(23-s)), 'constant') # ensures the size is correct for multiplication (too small) #\n",
        "    print(\"single precision binary fraction part:\", w) # Disappointingly not binary but pretty close #\n",
        "    print(\"Original Number Back:\", ((-1)**sign)*(2**fh)*(1+np.sum(w*another)))\n",
        "\n",
        "    # answer should be 1 01111101 01010101010101010101010 #\n",
        "    # missing a 1 near the end of the mantissa? #"
      ],
      "metadata": {
        "colab": {
          "base_uri": "https://localhost:8080/"
        },
        "id": "msicQSk-H8zZ",
        "outputId": "5b5b2de0-1276-43aa-8601-6c7d073a3fd5"
      },
      "execution_count": 319,
      "outputs": [
        {
          "output_type": "stream",
          "name": "stdout",
          "text": [
            "Enter 0 for positive or 1 for negative:1\n",
            "Whole number part to be converted:0\n",
            "Decimal part to be converted:.3333333333333333333\n",
            "single precision binary sign part: 1\n",
            "single precision binary exponent part: 01111101\n",
            "single precision binary fraction part: [0 1 0 1 0 1 0 1 0 1 0 1 0 1 0 1 0 1 0 1 0 0 0]\n",
            "Original Number Back: -0.33333325386047363\n"
          ]
        }
      ]
    },
    {
      "cell_type": "code",
      "source": [
        "# Problem 3 #\n",
        "# I assume the limit is whatever the number that fills the exponent with 1's #\n",
        "lowest_number = 2**(255-127)\n",
        "print(lowest_number)"
      ],
      "metadata": {
        "colab": {
          "base_uri": "https://localhost:8080/"
        },
        "id": "iwaswZBegAd-",
        "outputId": "fbae7f83-cfda-478a-862f-5c9e1621dcfa"
      },
      "execution_count": 316,
      "outputs": [
        {
          "output_type": "stream",
          "name": "stdout",
          "text": [
            "340282366920938463463374607431768211456\n"
          ]
        }
      ]
    },
    {
      "cell_type": "code",
      "source": [
        "# Problem 4 #\n",
        "\n",
        "#flip 0's to 1's add 1 for two's complement #\n",
        "\n",
        "a = 0b000000001001\n",
        "a_complement = 0b111111110111\n",
        "\n",
        "b = 0b000111000111\n",
        "b_complement = 0b111000111001\n",
        "\n",
        "c = 0b001111111101\n",
        "c_complement = 110000000011\n",
        "\n",
        "d = 0b100000001100\n",
        "d_complement = 0b011111110100\n",
        "\n",
        "e = 0b101111111110\n",
        "e_complement = 0b010000000010\n",
        "\n",
        "f = 0b101111111111\n",
        "f_complement = 0b010000000001\n"
      ],
      "metadata": {
        "id": "186iynRICbZ1"
      },
      "execution_count": 317,
      "outputs": []
    },
    {
      "cell_type": "code",
      "source": [
        "# Problem 5 #\n",
        "# binary to octal use groups of 3 starting right to left #\n",
        "#binary to hex use groups of 4 starting right to left #\n",
        "\n",
        "a = 0b01101\n",
        "a_oct = 0015\n",
        "a_hex = 0x0d\n",
        "\n",
        "b = 0b0100000101\n",
        "b_oct = 00205\n",
        "b_hex = 0x085\n",
        "\n",
        "c = 0b010100110101\n",
        "c_oct = 002465\n",
        "c_hex = 0x0535\n",
        "\n",
        "d = 0b011010000010101\n",
        "d_oct = 0032025\n",
        "d_hex = 0x03415"
      ],
      "metadata": {
        "id": "B9pv2q-A7WHg"
      },
      "execution_count": null,
      "outputs": []
    }
  ]
}